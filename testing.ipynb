{
 "cells": [
  {
   "cell_type": "code",
   "execution_count": 10,
   "metadata": {},
   "outputs": [
    {
     "name": "stdout",
     "output_type": "stream",
     "text": [
      "                   \n",
      "                   \n",
      "                   \n",
      "                   \n",
      "                   \n",
      "S S S S            \n",
      "                   \n",
      "              S S S\n",
      "  S S S S S   S    \n",
      "  S S S       S    \n"
     ]
    }
   ],
   "source": [
    "import random\n",
    "\n",
    "# Inicjalizacja planszy jako pustej listy 10x10 (10 wierszy x 10 kolumn)\n",
    "board = [[0 for _ in range(10)] for _ in range(10)]\n",
    "\n",
    "# Lista statków, gdzie każda liczba reprezentuje długość statku\n",
    "ships = [5, 4, 3, 3, 2]\n",
    "\n",
    "# Funkcja do losowego rozmieszczenia statków na planszy\n",
    "def place_ship(board, ship_length):\n",
    "    while True:\n",
    "        # Wybierz losowe współrzędne początkowe statku\n",
    "        start_x = random.randint(0, 9)\n",
    "        start_y = random.randint(0, 9)\n",
    "        orientation = random.choice(['horizontal', 'vertical'])\n",
    "\n",
    "        # Sprawdź, czy statek może być umieszczony na planszy w wybranej orientacji\n",
    "        if orientation == 'horizontal' and start_x + ship_length <= 10:\n",
    "            can_place = all(board[start_x + i][start_y] == 0 for i in range(ship_length))\n",
    "        elif orientation == 'vertical' and start_y + ship_length <= 10:\n",
    "            can_place = all(board[start_x][start_y + i] == 0 for i in range(ship_length))\n",
    "        else:\n",
    "            can_place = False\n",
    "\n",
    "        # Jeśli można umieścić statek, to umieść go na planszy i wyjdź z pętli\n",
    "        if can_place:\n",
    "            if orientation == 'horizontal':\n",
    "                for i in range(ship_length):\n",
    "                    board[start_x + i][start_y] = 1\n",
    "            else:\n",
    "                for i in range(ship_length):\n",
    "                    board[start_x][start_y + i] = 1\n",
    "            break\n",
    "\n",
    "# Rozmieść statki na planszy\n",
    "for ship_length in ships:\n",
    "    place_ship(board, ship_length)\n",
    "\n",
    "# Wyświetl gotową planszę\n",
    "for row in board:\n",
    "    print(' '.join(row))"
   ]
  },
  {
   "cell_type": "code",
   "execution_count": 11,
   "metadata": {},
   "outputs": [
    {
     "data": {
      "text/plain": [
       "[[' ', ' ', ' ', ' ', ' ', ' ', ' ', ' ', ' ', ' '],\n",
       " [' ', ' ', ' ', ' ', ' ', ' ', ' ', ' ', ' ', ' '],\n",
       " [' ', ' ', ' ', ' ', ' ', ' ', ' ', ' ', ' ', ' '],\n",
       " [' ', ' ', ' ', ' ', ' ', ' ', ' ', ' ', ' ', ' '],\n",
       " [' ', ' ', ' ', ' ', ' ', ' ', ' ', ' ', ' ', ' '],\n",
       " ['S', 'S', 'S', 'S', ' ', ' ', ' ', ' ', ' ', ' '],\n",
       " [' ', ' ', ' ', ' ', ' ', ' ', ' ', ' ', ' ', ' '],\n",
       " [' ', ' ', ' ', ' ', ' ', ' ', ' ', 'S', 'S', 'S'],\n",
       " [' ', 'S', 'S', 'S', 'S', 'S', ' ', 'S', ' ', ' '],\n",
       " [' ', 'S', 'S', 'S', ' ', ' ', ' ', 'S', ' ', ' ']]"
      ]
     },
     "execution_count": 11,
     "metadata": {},
     "output_type": "execute_result"
    }
   ],
   "source": [
    "board"
   ]
  }
 ],
 "metadata": {
  "kernelspec": {
   "display_name": "moje_srodowisko",
   "language": "python",
   "name": "python3"
  },
  "language_info": {
   "codemirror_mode": {
    "name": "ipython",
    "version": 3
   },
   "file_extension": ".py",
   "mimetype": "text/x-python",
   "name": "python",
   "nbconvert_exporter": "python",
   "pygments_lexer": "ipython3",
   "version": "3.9.4"
  }
 },
 "nbformat": 4,
 "nbformat_minor": 2
}
